{
 "cells": [
  {
   "cell_type": "code",
   "execution_count": 84,
   "metadata": {},
   "outputs": [],
   "source": [
    "import numpy as np\n",
    "import pandas as pd\n",
    "import torch\n",
    "import torch.nn as nn\n",
    "from sklearn.model_selection import train_test_split\n",
    "from torch.utils.data import TensorDataset\n",
    "import matplotlib.pyplot as plt\n",
    "import torch.optim as optim\n",
    "from torch.autograd import Variable"
   ]
  },
  {
   "cell_type": "code",
   "execution_count": null,
   "metadata": {},
   "outputs": [],
   "source": [
    "df = pd.read_csv('./train.csv', dtype = np.float32)"
   ]
  },
  {
   "cell_type": "code",
   "execution_count": 20,
   "metadata": {},
   "outputs": [],
   "source": [
    "labels = df.label.values"
   ]
  },
  {
   "cell_type": "code",
   "execution_count": 113,
   "metadata": {},
   "outputs": [],
   "source": [
    "features = df.loc[:,df.columns != 'label'].values/255 #normalization"
   ]
  },
  {
   "cell_type": "code",
   "execution_count": 51,
   "metadata": {},
   "outputs": [
    {
     "name": "stderr",
     "output_type": "stream",
     "text": [
      "C:\\Users\\prate\\AppData\\Local\\conda\\conda\\envs\\mlenv\\lib\\site-packages\\sklearn\\model_selection\\_split.py:2069: FutureWarning: From version 0.21, test_size will always complement train_size unless both are specified.\n",
      "  FutureWarning)\n"
     ]
    }
   ],
   "source": [
    "features_train, features_val, labels_train, labels_val = train_test_split(features, labels , train_size=.90, random_state=32)"
   ]
  },
  {
   "cell_type": "code",
   "execution_count": 52,
   "metadata": {},
   "outputs": [],
   "source": [
    "features_train = torch.from_numpy(features_train)\n",
    "labels_train = torch.from_numpy(labels_train).type(torch.LongTensor)"
   ]
  },
  {
   "cell_type": "code",
   "execution_count": 54,
   "metadata": {},
   "outputs": [],
   "source": [
    "features_val = torch.from_numpy(features_val)\n",
    "labels_val = torch.from_numpy(labels_val).type(torch.LongTensor)"
   ]
  },
  {
   "cell_type": "code",
   "execution_count": 59,
   "metadata": {},
   "outputs": [],
   "source": [
    "trainset  = TensorDataset(features_train, labels_train)\n",
    "valset = TensorDataset(features_val, labels_val)"
   ]
  },
  {
   "cell_type": "code",
   "execution_count": null,
   "metadata": {},
   "outputs": [],
   "source": [
    "train_loader = torch.utils.data.DataLoader(trainset,  batch_size=5, shuffle=True)\n",
    "val_loader = torch.utils.data.DataLoader(valset, batch_size=5, shuffle=True)"
   ]
  },
  {
   "cell_type": "code",
   "execution_count": null,
   "metadata": {},
   "outputs": [],
   "source": [
    "data = iter(train_loader)\n",
    "data.next()[0].shape"
   ]
  },
  {
   "cell_type": "code",
   "execution_count": 128,
   "metadata": {},
   "outputs": [
    {
     "ename": "AttributeError",
     "evalue": "'int' object has no attribute 'type'",
     "output_type": "error",
     "traceback": [
      "\u001b[1;31m---------------------------------------------------------------------------\u001b[0m",
      "\u001b[1;31mAttributeError\u001b[0m                            Traceback (most recent call last)",
      "\u001b[1;32m<ipython-input-128-ffdab1b9dd8b>\u001b[0m in \u001b[0;36m<module>\u001b[1;34m()\u001b[0m\n\u001b[1;32m----> 1\u001b[1;33m \u001b[0mlen\u001b[0m\u001b[1;33m(\u001b[0m\u001b[0mvalset\u001b[0m\u001b[1;33m)\u001b[0m\u001b[1;33m.\u001b[0m\u001b[0mtype\u001b[0m\u001b[1;33m(\u001b[0m\u001b[1;33m)\u001b[0m\u001b[1;33m\u001b[0m\u001b[0m\n\u001b[0m",
      "\u001b[1;31mAttributeError\u001b[0m: 'int' object has no attribute 'type'"
     ]
    }
   ],
   "source": [
    "len(valset)"
   ]
  },
  {
   "cell_type": "code",
   "execution_count": 68,
   "metadata": {},
   "outputs": [
    {
     "data": {
      "text/plain": [
       "<matplotlib.image.AxesImage at 0x2958783a898>"
      ]
     },
     "execution_count": 68,
     "metadata": {},
     "output_type": "execute_result"
    },
    {
     "data": {
      "image/png": "[encoded data removed]",
      "text/plain": [
       "<Figure size 432x288 with 1 Axes>"
      ]
     },
     "metadata": {
      "needs_background": "light"
     },
     "output_type": "display_data"
    }
   ],
   "source": [
    "#visualize\n",
    "plt.imshow(features_train[0].reshape(28,28))"
   ]
  },
  {
   "cell_type": "code",
   "execution_count": 70,
   "metadata": {},
   "outputs": [],
   "source": [
    "#define module == single layer nn == logistic \n",
    "class LogisticRegression(nn.Module):\n",
    "    def __init__(self, num_input, num_output):\n",
    "        super(LogisticRegression,self).__init__()\n",
    "        self.linear = nn.Linear(in_features=num_input, out_features=num_output)\n",
    "    def forward(self, x):\n",
    "        return self.linear(x)"
   ]
  },
  {
   "cell_type": "code",
   "execution_count": 99,
   "metadata": {},
   "outputs": [],
   "source": [
    "#define loss\n",
    "criteria = nn.CrossEntropyLoss()\n",
    "net = LogisticRegression(784,10)\n",
    "optimizer = optim.SGD(net.parameters(), lr = 0.01)"
   ]
  },
  {
   "cell_type": "code",
   "execution_count": null,
   "metadata": {},
   "outputs": [],
   "source": [
    "out = net(Variable(data.next()[0]))"
   ]
  },
  {
   "cell_type": "code",
   "execution_count": 95,
   "metadata": {},
   "outputs": [
    {
     "data": {
      "text/plain": [
       "tensor([[ 0.3363, -0.1877, -0.1123,  0.0150, -0.1622, -0.1003,  0.1452,  0.0587,\n",
       "          0.0355,  0.1783],\n",
       "        [-0.1741,  0.0177, -0.1359, -0.0289, -0.3247, -0.1134,  0.1486, -0.2022,\n",
       "          0.1117, -0.0734],\n",
       "        [ 0.1497, -0.2949, -0.2185, -0.2036, -0.1050, -0.0415,  0.1510, -0.1311,\n",
       "          0.1755,  0.1352],\n",
       "        [ 0.1923,  0.1153, -0.0880, -0.1706, -0.3295, -0.0179,  0.3001,  0.1908,\n",
       "         -0.0443,  0.2309],\n",
       "        [-0.0922,  0.0113, -0.1765, -0.0724, -0.2947, -0.0825,  0.1189, -0.0482,\n",
       "         -0.0234, -0.0532]])"
      ]
     },
     "execution_count": 95,
     "metadata": {},
     "output_type": "execute_result"
    }
   ],
   "source": [
    "out.data"
   ]
  },
  {
   "cell_type": "code",
   "execution_count": 97,
   "metadata": {},
   "outputs": [
    {
     "data": {
      "text/plain": [
       "(tensor([0.3363, 0.1486, 0.1755, 0.3001, 0.1189]), tensor([0, 6, 8, 6, 6]))"
      ]
     },
     "execution_count": 97,
     "metadata": {},
     "output_type": "execute_result"
    }
   ],
   "source": [
    "torch.max(out.data,1)"
   ]
  },
  {
   "cell_type": "code",
   "execution_count": null,
   "metadata": {},
   "outputs": [],
   "source": [
    "train_loss, val_loss, count = [],[],0"
   ]
  },
  {
   "cell_type": "code",
   "execution_count": 133,
   "metadata": {},
   "outputs": [
    {
     "name": "stdout",
     "output_type": "stream",
     "text": [
      "tensor([0, 5, 3, 3, 6])\n",
      "tensor([4, 3, 0, 1, 6])\n",
      "1\n",
      "tensor(216, dtype=torch.uint8)\n"
     ]
    }
   ],
   "source": [
    "vdata = iter(val_loader).next()[0]\n",
    "vdata = Variable(vdata.view(-1,28*28))\n",
    "vout = net(vdata)\n",
    "\n",
    "pred = torch.max(vout.data, 1)[1]\n",
    "print(pred)\n",
    "correct += (pred == label).sum().item()\n",
    "print(label)\n",
    "print(sum(pred==label).item())\n",
    "print(correct)\n",
    "vloss += criteria(vout,label)\n",
    "val_loss.append(vloss.item())"
   ]
  },
  {
   "cell_type": "code",
   "execution_count": 141,
   "metadata": {},
   "outputs": [
    {
     "name": "stdout",
     "output_type": "stream",
     "text": [
      "Epocj 0 iteration 0 vloss 0.16518250107765198 Valset accuracy 0.9171428571428571\n",
      "Epocj 0 iteration 1000 vloss 0.028889846056699753 Valset accuracy 0.914047619047619\n",
      "Epocj 0 iteration 2000 vloss 0.13660097122192383 Valset accuracy 0.9152380952380952\n",
      "Epocj 0 iteration 3000 vloss 1.6563056707382202 Valset accuracy 0.9171428571428571\n",
      "Epocj 0 iteration 4000 vloss 0.8926874995231628 Valset accuracy 0.9147619047619048\n",
      "Epocj 0 iteration 5000 vloss 0.013625621795654297 Valset accuracy 0.9176190476190477\n",
      "Epocj 0 iteration 6000 vloss 0.19921235740184784 Valset accuracy 0.9169047619047619\n",
      "Epocj 0 iteration 7000 vloss 0.06460390239953995 Valset accuracy 0.9192857142857143\n",
      "Epocj 1 iteration 0 vloss 0.26659709215164185 Valset accuracy 0.9176190476190477\n",
      "Epocj 1 iteration 1000 vloss 0.027085017412900925 Valset accuracy 0.915\n",
      "Epocj 1 iteration 2000 vloss 0.488219678401947 Valset accuracy 0.9166666666666666\n",
      "Epocj 1 iteration 3000 vloss 0.0874396339058876 Valset accuracy 0.9183333333333333\n",
      "Epocj 1 iteration 4000 vloss 0.11408348381519318 Valset accuracy 0.9180952380952381\n",
      "Epocj 1 iteration 5000 vloss 0.44612979888916016 Valset accuracy 0.9169047619047619\n",
      "Epocj 1 iteration 6000 vloss 0.043666742742061615 Valset accuracy 0.9161904761904762\n",
      "Epocj 1 iteration 7000 vloss 0.021930312737822533 Valset accuracy 0.9164285714285715\n",
      "Epocj 2 iteration 0 vloss 0.13344983756542206 Valset accuracy 0.9164285714285715\n",
      "Epocj 2 iteration 1000 vloss 0.2300311028957367 Valset accuracy 0.9178571428571428\n",
      "Epocj 2 iteration 2000 vloss 0.21051302552223206 Valset accuracy 0.92\n",
      "Epocj 2 iteration 3000 vloss 0.31971102952957153 Valset accuracy 0.9169047619047619\n",
      "Epocj 2 iteration 4000 vloss 0.08205194771289825 Valset accuracy 0.9166666666666666\n",
      "Epocj 2 iteration 5000 vloss 0.9864592552185059 Valset accuracy 0.9166666666666666\n",
      "Epocj 2 iteration 6000 vloss 0.36442965269088745 Valset accuracy 0.9169047619047619\n",
      "Epocj 2 iteration 7000 vloss 0.9691759347915649 Valset accuracy 0.9192857142857143\n",
      "Epocj 3 iteration 0 vloss 0.5534161329269409 Valset accuracy 0.9180952380952381\n",
      "Epocj 3 iteration 1000 vloss 0.08682040870189667 Valset accuracy 0.9185714285714286\n",
      "Epocj 3 iteration 2000 vloss 0.06034870073199272 Valset accuracy 0.9185714285714286\n",
      "Epocj 3 iteration 3000 vloss 0.09366340935230255 Valset accuracy 0.9188095238095239\n",
      "Epocj 3 iteration 4000 vloss 0.035574816167354584 Valset accuracy 0.9176190476190477\n",
      "Epocj 3 iteration 5000 vloss 0.23523855209350586 Valset accuracy 0.9166666666666666\n",
      "Epocj 3 iteration 6000 vloss 0.008822632022202015 Valset accuracy 0.9173809523809524\n",
      "Epocj 3 iteration 7000 vloss 0.4276343286037445 Valset accuracy 0.9176190476190477\n",
      "Epocj 4 iteration 0 vloss 0.19592872262001038 Valset accuracy 0.9204761904761904\n",
      "Epocj 4 iteration 1000 vloss 1.7474257946014404 Valset accuracy 0.9202380952380952\n",
      "Epocj 4 iteration 2000 vloss 0.322365939617157 Valset accuracy 0.9164285714285715\n",
      "Epocj 4 iteration 3000 vloss 0.10914631187915802 Valset accuracy 0.9214285714285714\n",
      "Epocj 4 iteration 4000 vloss 0.09804658591747284 Valset accuracy 0.9183333333333333\n",
      "Epocj 4 iteration 5000 vloss 0.637747585773468 Valset accuracy 0.919047619047619\n",
      "Epocj 4 iteration 6000 vloss 0.12387609481811523 Valset accuracy 0.920952380952381\n",
      "Epocj 4 iteration 7000 vloss 0.382558137178421 Valset accuracy 0.919047619047619\n",
      "Epocj 5 iteration 0 vloss 0.4694148600101471 Valset accuracy 0.9188095238095239\n",
      "Epocj 5 iteration 1000 vloss 0.11768464744091034 Valset accuracy 0.92\n",
      "Epocj 5 iteration 2000 vloss 0.7058058381080627 Valset accuracy 0.9171428571428571\n",
      "Epocj 5 iteration 3000 vloss 0.1275881826877594 Valset accuracy 0.9188095238095239\n",
      "Epocj 5 iteration 4000 vloss 0.5363739728927612 Valset accuracy 0.9223809523809524\n",
      "Epocj 5 iteration 5000 vloss 0.05777549743652344 Valset accuracy 0.9173809523809524\n",
      "Epocj 5 iteration 6000 vloss 0.040398310869932175 Valset accuracy 0.9180952380952381\n",
      "Epocj 5 iteration 7000 vloss 0.008716774173080921 Valset accuracy 0.9188095238095239\n",
      "Epocj 6 iteration 0 vloss 0.1343957930803299 Valset accuracy 0.9197619047619048\n",
      "Epocj 6 iteration 1000 vloss 0.34579771757125854 Valset accuracy 0.9188095238095239\n",
      "Epocj 6 iteration 2000 vloss 0.14824800193309784 Valset accuracy 0.9197619047619048\n",
      "Epocj 6 iteration 3000 vloss 0.12642383575439453 Valset accuracy 0.9197619047619048\n",
      "Epocj 6 iteration 4000 vloss 0.3124198019504547 Valset accuracy 0.919047619047619\n",
      "Epocj 6 iteration 5000 vloss 0.04852266237139702 Valset accuracy 0.9185714285714286\n",
      "Epocj 6 iteration 6000 vloss 0.028560161590576172 Valset accuracy 0.9192857142857143\n",
      "Epocj 6 iteration 7000 vloss 0.06166420131921768 Valset accuracy 0.9202380952380952\n",
      "Epocj 7 iteration 0 vloss 0.18297500908374786 Valset accuracy 0.9183333333333333\n",
      "Epocj 7 iteration 1000 vloss 0.16320209205150604 Valset accuracy 0.9204761904761904\n",
      "Epocj 7 iteration 2000 vloss 0.0249189380556345 Valset accuracy 0.9197619047619048\n",
      "Epocj 7 iteration 3000 vloss 0.08565673977136612 Valset accuracy 0.9195238095238095\n",
      "Epocj 7 iteration 4000 vloss 0.3123759329319 Valset accuracy 0.9185714285714286\n",
      "Epocj 7 iteration 5000 vloss 0.30976563692092896 Valset accuracy 0.9178571428571428\n",
      "Epocj 7 iteration 6000 vloss 0.04149608686566353 Valset accuracy 0.9164285714285715\n",
      "Epocj 7 iteration 7000 vloss 0.0022602081298828125 Valset accuracy 0.9207142857142857\n",
      "Epocj 8 iteration 0 vloss 0.8737770318984985 Valset accuracy 0.9214285714285714\n",
      "Epocj 8 iteration 1000 vloss 0.18619394302368164 Valset accuracy 0.9214285714285714\n",
      "Epocj 8 iteration 2000 vloss 0.03076934814453125 Valset accuracy 0.9188095238095239\n",
      "Epocj 8 iteration 3000 vloss 0.12511920928955078 Valset accuracy 0.9173809523809524\n",
      "Epocj 8 iteration 4000 vloss 0.37033718824386597 Valset accuracy 0.9197619047619048\n",
      "Epocj 8 iteration 5000 vloss 0.04413776472210884 Valset accuracy 0.9202380952380952\n",
      "Epocj 8 iteration 6000 vloss 0.0456426627933979 Valset accuracy 0.9202380952380952\n",
      "Epocj 8 iteration 7000 vloss 0.08188486099243164 Valset accuracy 0.9171428571428571\n",
      "Epocj 9 iteration 0 vloss 0.0810060054063797 Valset accuracy 0.915952380952381\n",
      "Epocj 9 iteration 1000 vloss 0.04063444212079048 Valset accuracy 0.9214285714285714\n",
      "Epocj 9 iteration 2000 vloss 0.10920801013708115 Valset accuracy 0.920952380952381\n",
      "Epocj 9 iteration 3000 vloss 0.39482125639915466 Valset accuracy 0.9180952380952381\n",
      "Epocj 9 iteration 4000 vloss 0.030388642102479935 Valset accuracy 0.920952380952381\n",
      "Epocj 9 iteration 5000 vloss 0.09523220360279083 Valset accuracy 0.9207142857142857\n",
      "Epocj 9 iteration 6000 vloss 0.5310222506523132 Valset accuracy 0.9195238095238095\n",
      "Epocj 9 iteration 7000 vloss 0.40581250190734863 Valset accuracy 0.9192857142857143\n"
     ]
    }
   ],
   "source": [
    "epoch = 10\n",
    "for e in range(epoch):\n",
    "    for i, (data, label) in enumerate(train_loader):\n",
    "\n",
    "        data = Variable(data.view(-1,28*28))\n",
    "        label = Variable(label)\n",
    "        out = net(data)\n",
    "        optimizer.zero_grad()\n",
    "        loss = criteria(out,label)\n",
    "\n",
    "        train_loss.append(loss.item())\n",
    "        loss.backward()\n",
    "        optimizer.step()\n",
    "\n",
    "        if i % 1000 == 0:\n",
    "            accuracy, correct = 0,0\n",
    "            totalvloss = 0\n",
    "            for vdata,label in val_loader:\n",
    "                vdata = Variable(vdata.view(-1,28*28))\n",
    "                vout = net(vdata)\n",
    "                label = Variable(label)\n",
    "                pred = torch.max(vout, 1)[1]\n",
    "                correct += (pred == label).sum()\n",
    "                vloss = criteria(vout,label)\n",
    "                totalvloss += vloss.item()\n",
    "            val_loss.append(totalvloss)\n",
    "\n",
    "            accuracy = (correct.item()/len(valset))\n",
    "            print('Epocj {} iteration {} vloss {} Valset accuracy {}'.format(e, i, loss.data, accuracy))    "
   ]
  },
  {
   "cell_type": "code",
   "execution_count": 142,
   "metadata": {},
   "outputs": [],
   "source": [
    "testdf = pd.read_csv('./test.csv', dtype = np.float32)"
   ]
  },
  {
   "cell_type": "code",
   "execution_count": 146,
   "metadata": {},
   "outputs": [],
   "source": [
    "testdf = testdf/255"
   ]
  },
  {
   "cell_type": "code",
   "execution_count": 154,
   "metadata": {},
   "outputs": [],
   "source": [
    "i = Variable(torch.from_numpy(testdf.values))"
   ]
  },
  {
   "cell_type": "code",
   "execution_count": 157,
   "metadata": {},
   "outputs": [],
   "source": [
    "out = net(i.view(-1,28*28))"
   ]
  },
  {
   "cell_type": "code",
   "execution_count": 159,
   "metadata": {},
   "outputs": [],
   "source": [
    "predictions = torch.max(out,1)[1]"
   ]
  },
  {
   "cell_type": "code",
   "execution_count": 164,
   "metadata": {},
   "outputs": [
    {
     "data": {
      "text/plain": [
       "array([2, 0, 9, ..., 3, 9, 2], dtype=int64)"
      ]
     },
     "execution_count": 164,
     "metadata": {},
     "output_type": "execute_result"
    }
   ],
   "source": [
    "predictions.numpy()"
   ]
  },
  {
   "cell_type": "code",
   "execution_count": 163,
   "metadata": {},
   "outputs": [
    {
     "data": {
      "text/plain": [
       "array([    0,     1,     2, ..., 27997, 27998, 27999], dtype=int64)"
      ]
     },
     "execution_count": 163,
     "metadata": {},
     "output_type": "execute_result"
    }
   ],
   "source": [
    "testdf.index.values"
   ]
  },
  {
   "cell_type": "code",
   "execution_count": 168,
   "metadata": {},
   "outputs": [],
   "source": [
    "newdf = pd.DataFrame({'ImageId':testdf.index.values+1, 'Label': predictions.numpy()})\n",
    "newdf.to_csv('./results.csv', index=False)"
   ]
  },
  {
   "cell_type": "code",
   "execution_count": null,
   "metadata": {},
   "outputs": [],
   "source": []
  }
 ],
 "metadata": {
  "kernelspec": {
   "display_name": "Python 3",
   "language": "python",
   "name": "python3"
  },
  "language_info": {
   "codemirror_mode": {
    "name": "ipython",
    "version": 3
   },
   "file_extension": ".py",
   "mimetype": "text/x-python",
   "name": "python",
   "nbconvert_exporter": "python",
   "pygments_lexer": "ipython3",
   "version": "3.5.6"
  }
 },
 "nbformat": 4,
 "nbformat_minor": 2
}
